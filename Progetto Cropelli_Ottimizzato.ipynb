{
 "cells": [
  {
   "cell_type": "markdown",
   "metadata": {},
   "source": [
    "# importazione librerie"
   ]
  },
  {
   "cell_type": "code",
   "execution_count": 11,
   "metadata": {},
   "outputs": [],
   "source": [
    "import pandas as pd\n",
    "#import geopandas as gpd\n",
    "import numpy as np\n",
    "import matplotlib.pyplot as plt \n",
    "import folium \n",
    "import math\n",
    "import numpy as np\n",
    "from sklearn.metrics.pairwise import euclidean_distances,haversine_distances\n",
    "from typing import List\n",
    "from collections import defaultdict \n",
    "from tqdm.notebook import tqdm\n",
    "import networkx as nx\n",
    "from math import radians\n",
    "import json\n",
    "from math import pi"
   ]
  },
  {
   "cell_type": "markdown",
   "metadata": {},
   "source": [
    "# importazione dataset e caratterizzazione dati"
   ]
  },
  {
   "cell_type": "code",
   "execution_count": 12,
   "metadata": {},
   "outputs": [],
   "source": [
    "#Read the dataset \n",
    "\n",
    "fields = [\"city\",\"lat\",\"lng\",\"country\",\"population\"]\n",
    "df = pd.read_excel('worldcities.xlsx', usecols=fields,engine=\"openpyxl\")\n",
    "airports_df= pd.read_csv('airports.csv')\n",
    "Paths_df= pd.read_csv('routes.csv')\n",
    "number_city = len(df)\n",
    "#sostituisco il nome della prima colonna del data frame airport_df per comodità (tolgo lo spazio)\n",
    "aux_list = list(airports_df.columns)\n",
    "aux_list[0] = 'Airport_ID'\n",
    "airports_df.columns = aux_list\n",
    "#elimino gli spazi dai nomi delle colonne di Paths_df\n",
    "Paths_df.columns =[column.replace(\" \", \"_\") for column in Paths_df.columns]\n",
    "#caratterizzo i dati \n",
    "#elimino da paths_df tutte le colonne che hanno dati rilevanti mancanti\n",
    "Paths_df = Paths_df[(Paths_df['Destination_airport_ID'] != '\\\\N') & (Paths_df['Source_airport_ID'] != '\\\\N')]\n",
    "#converto i dati nelle colonne \"Source airport ID\", \"Destination airport ID\" in interi\n",
    "Paths_df[[\"Source_airport_ID\", \"Destination_airport_ID\"]] = Paths_df[[\"Source_airport_ID\", \"Destination_airport_ID\"]].apply(pd.to_numeric)\n",
    "#creo le colonne 'Latitude_rad' 'Longitude_rad' applicando la funzione radians(x) alle colonne \"Latitude\" \"Longitude\"\n",
    "#questo per evitare in futuro di doverle calcolare più volte inutilmente\n",
    "airports_df['Latitude_rad'] = airports_df[\"Latitude\"].apply(lambda x: radians(x))\n",
    "airports_df['Longitude_rad'] = airports_df[\"Longitude\"].apply(lambda x: radians(x))\n",
    "df['lat_rad'] = df['lat'].apply(lambda x: radians(x))\n",
    "df['lng_rad'] = df['lng'].apply(lambda x: radians(x))"
   ]
  },
  {
   "cell_type": "markdown",
   "metadata": {},
   "source": [
    "# creazioni funzioni richiamabili ausiliarie"
   ]
  },
  {
   "cell_type": "code",
   "execution_count": 13,
   "metadata": {},
   "outputs": [],
   "source": [
    "def int_to_list (a):\n",
    "    #converte un intero in una lista con quell'intero come unico elemento\n",
    "    if type (a) == int:\n",
    "        return([a])\n",
    "    else:\n",
    "        return(a)\n",
    "def List_comparison (a,b):\n",
    "    #prende in input due liste, se hanno almeno un elemento in comune restituisce True, altrimenti False\n",
    "    result = False\n",
    "    for e in a:\n",
    "        if e in b:\n",
    "            result = True\n",
    "    return(result)"
   ]
  },
  {
   "cell_type": "markdown",
   "metadata": {},
   "source": [
    "# passo 1 associazione per ogni città degli aereoporti corrispondenti o limitrofi"
   ]
  },
  {
   "cell_type": "code",
   "execution_count": 14,
   "metadata": {},
   "outputs": [
    {
     "data": {
      "application/vnd.jupyter.widget-view+json": {
       "model_id": "b229fce36a884046b60f8b8fc7ac4066",
       "version_major": 2,
       "version_minor": 0
      },
      "text/plain": [
       "HBox(children=(FloatProgress(value=0.0, max=7698.0), HTML(value='')))"
      ]
     },
     "metadata": {},
     "output_type": "display_data"
    },
    {
     "name": "stdout",
     "output_type": "stream",
     "text": [
      "\n"
     ]
    },
    {
     "data": {
      "application/vnd.jupyter.widget-view+json": {
       "model_id": "049b0f1f942544ac9897a83bec9443db",
       "version_major": 2,
       "version_minor": 0
      },
      "text/plain": [
       "HBox(children=(FloatProgress(value=0.0, max=26569.0), HTML(value='')))"
      ]
     },
     "metadata": {},
     "output_type": "display_data"
    },
    {
     "name": "stdout",
     "output_type": "stream",
     "text": [
      "\n"
     ]
    }
   ],
   "source": [
    "#passo 1.1b versione ottimizzata\n",
    "#l'ottimizzazione consisite nel creare un dizionario ausiliario contenente come chiavi i criteri di ricerca che \n",
    "#mi servono in airports_df (città e paese) e come valori gli aereoporti associato\n",
    "\n",
    "lista = [[]] *(len(df.index))\n",
    "dictionary_aux ={}\n",
    "for e in tqdm(airports_df.index):\n",
    "    try:\n",
    "        dictionary_aux[(airports_df.loc[e,'City'],airports_df.loc[e,'Country'])].append(airports_df.loc[e,'Airport_ID'])\n",
    "    except KeyError:\n",
    "        dictionary_aux[(airports_df.loc[e,'City'],airports_df.loc[e,'Country'])] = [airports_df.loc[e,'Airport_ID']]\n",
    "        \n",
    "for e in tqdm(df.index):\n",
    "        try:\n",
    "            lista[e] = dictionary_aux[(df.loc[e,'city'],df.loc[e,'country'])]\n",
    "        except KeyError:\n",
    "            lista[e] = []\n",
    "df['airport_id'] = lista\n",
    "#l'aumento di performance è evidente..."
   ]
  },
  {
   "cell_type": "code",
   "execution_count": 15,
   "metadata": {},
   "outputs": [
    {
     "data": {
      "application/vnd.jupyter.widget-view+json": {
       "model_id": "b5a56a2a7798450a96e3429ecb2ffd4d",
       "version_major": 2,
       "version_minor": 0
      },
      "text/plain": [
       "HBox(children=(FloatProgress(value=0.0, max=237.0), HTML(value='')))"
      ]
     },
     "metadata": {},
     "output_type": "display_data"
    },
    {
     "name": "stdout",
     "output_type": "stream",
     "text": [
      "\n"
     ]
    },
    {
     "data": {
      "application/vnd.jupyter.widget-view+json": {
       "model_id": "201d0134b4bd4805a01db9e8ecc9482a",
       "version_major": 2,
       "version_minor": 0
      },
      "text/plain": [
       "HBox(children=(FloatProgress(value=0.0, max=26569.0), HTML(value='')))"
      ]
     },
     "metadata": {},
     "output_type": "display_data"
    },
    {
     "name": "stderr",
     "output_type": "stream",
     "text": [
      "<ipython-input-15-e042fbde47db>:61: SettingWithCopyWarning: \n",
      "A value is trying to be set on a copy of a slice from a DataFrame.\n",
      "Try using .loc[row_indexer,col_indexer] = value instead\n",
      "\n",
      "See the caveats in the documentation: https://pandas.pydata.org/pandas-docs/stable/user_guide/indexing.html#returning-a-view-versus-a-copy\n",
      "  aux_airports['distance'] = [haversine_distances([[lat,lng],\n"
     ]
    },
    {
     "name": "stdout",
     "output_type": "stream",
     "text": [
      "\n"
     ]
    }
   ],
   "source": [
    "#passo 1.2b versione ottimizzata\n",
    "#per tutte le città senza aeroporto calcolo l'areoporto più vicino nello stesso paese\n",
    "#se non esiste un aeroporto in quel paese cerco l'aeroporto più vicino\n",
    "#questa volta creo prima un dizionario dove la chiave è uno stato e i valori sono gli aereoporti di quello stato\n",
    "df['own_airport'] = np.ones(len(df.index)) \n",
    "aux_list = list(set(airports_df['Country']))\n",
    "aux_dictionary_1 = {}\n",
    "for e in tqdm(aux_list):\n",
    "        aux_dictionary_1[e] = list(airports_df[airports_df['Country'] == e].index)\n",
    "    \n",
    "    \n",
    "for e in tqdm(df.index):\n",
    "    if df.loc[e,'airport_id'] ==[]:\n",
    "        country = df.loc[e].country\n",
    "        #aux_airports contiene tutti gli aeroporti presenti nel paese della città che sto analizzando\n",
    "        try:\n",
    "            aux_airports = airports_df.loc[aux_dictionary_1[country]]\n",
    "            aux_airports['distance'] = [(haversine_distances([[df.loc[e,'lat_rad'],df.loc[e,'lng_rad']],\n",
    "                                                         [aux_airports.loc[x,'Latitude_rad'],\n",
    "                                                          aux_airports.loc[x,'Longitude_rad']]])[0][1])\n",
    "                                    for x in aux_airports.index]\n",
    "            \n",
    "            df.loc[e,'airport_id'] = int(aux_airports[aux_airports.distance ==  aux_airports['distance'].min()].Airport_ID)\n",
    "            if df.loc[e,'city'] != aux_airports[aux_airports.distance ==  aux_airports['distance'].min()].City.item():\n",
    "                df.loc[e,'own_airport'] = 0\n",
    "            #il KeyError si manifesta qualora le rappresentazioni di country non sono coerenti tra i dataframe df e airports_df\n",
    "            # oppure non ci sono aereoporti in quella nazione.\n",
    "            #in questo caso inizio a esplorare un area attorno alla latitudine e longitudine che desidero e allargo sempre di\n",
    "            #più quell'area fino a quando non trovo un aereoporto\n",
    "        except KeyError:            \n",
    "            #per ogni aeroporto calcola la distanza da quella città e prelevo solo gli aereoporti di quella \n",
    "            #città oppure il più vicino\n",
    "            lat = df.loc[e,'lat_rad']\n",
    "            lng = df.loc[e,'lng_rad']\n",
    "            airports_near_found = False\n",
    "            width = 0.01\n",
    "            while airports_near_found == False:\n",
    "                latmin = lat - width\n",
    "                latmax = lat + width\n",
    "                lngmin = lng - width\n",
    "                lngmax = lng + width\n",
    "                if lngmin < -pi:\n",
    "                    lngmin = 2 *pi - lngmin\n",
    "                    aux_airports = airports_df[(airports_df['Latitude_rad'] > latmin) & (airports_df['Latitude_rad'] < latmax) \n",
    "                                                   & ((airports_df['Longitude_rad'] > lngmin) \n",
    "                                                   | (airports_df['Longitude_rad'] < lngmax))]\n",
    "                elif lngmax > pi:\n",
    "                    lngmax = lngmax - 2 * pi\n",
    "                    aux_airports = airports_df[(airports_df['Latitude_rad'] > latmin) & (airports_df['Latitude_rad'] < latmax) \n",
    "                                                   & ((airports_df['Longitude_rad'] > lngmin) \n",
    "                                                   | (airports_df['Longitude_rad'] < lngmax))]\n",
    "                else:\n",
    "                    aux_airports = airports_df[(airports_df['Latitude_rad'] > latmin) & (airports_df['Latitude_rad'] < latmax)\n",
    "                                                   & (airports_df['Longitude_rad'] > lngmin) \n",
    "                                                   & (airports_df['Longitude_rad'] < lngmax)]\n",
    "                if len(aux_airports) == 0:\n",
    "                    width += 0.01\n",
    "                else:\n",
    "                    airports_near_found = True\n",
    "                    \n",
    "            aux_airports['distance'] = [haversine_distances([[lat,lng],\n",
    "                                                         [aux_airports.loc[x,'Latitude_rad'],\n",
    "                                                          aux_airports.loc[x,'Longitude_rad']]])[0][1]\n",
    "                                    for x in aux_airports.index]\n",
    "            \n",
    "            #ordino gli aeroporti per distanza\n",
    "            aux_airports = aux_airports.sort_values(by=['distance'], ascending = 0, inplace = False)\n",
    "            #trovo il primo aeroporto che non appartiene a quella città\n",
    "            count = 0\n",
    "            find = 0\n",
    "            #l'aeroporto più vicino è effettivamente associato alla città analizzata se ne esiste uno oppure \n",
    "            #potrebbe essere associato ad un altra città limitrofa\n",
    "            while find == 0:\n",
    "                try: \n",
    "                    if aux_airports.iloc[count]['City'] != df.loc[e,'city']:\n",
    "                        find = 1\n",
    "                except IndexError:\n",
    "                    find = 1\n",
    "                if find == 0:\n",
    "                    count += 1\n",
    "            #se count >0 ho trovato aereoporti effettivamente associati alla città\n",
    "            #se count è zero ho trovato l'aereoporto più vicino che tuttavia è in una città limitrofa e devo considerare\n",
    "            #che devo fare un extra tragitto epr raggiungere l'aereoporto\n",
    "            if count > 0:\n",
    "                aux_airports = aux_airports.iloc[:count]\n",
    "                df.loc[e,'airport_id'] = [a for a in aux_airports['Airport_ID']]\n",
    "            if count == 0:\n",
    "                df.loc[e,'own_airport'] = 0\n",
    "                df.loc[e,'airport_id'] = aux_airports.iloc[0]['Airport_ID']\n",
    "\n",
    "df['airport_id'] = df['airport_id'].apply(lambda x: int_to_list(x))             "
   ]
  },
  {
   "cell_type": "code",
   "execution_count": 16,
   "metadata": {},
   "outputs": [],
   "source": [
    "#salvo il dataframe ricalcolato per evitare ulteriori inizializzazioni\n",
    "df.to_csv (r'export_dataframe_1.csv', index = False, header=True)"
   ]
  },
  {
   "cell_type": "code",
   "execution_count": 17,
   "metadata": {},
   "outputs": [],
   "source": [
    "#riprendo il dataframe già calcolato\n",
    "df = pd.read_csv('export_dataframe_1.csv')\n",
    "df['airport_id'] = df['airport_id'].apply(lambda x: json.loads(x))\n",
    "df['airport_id'] = df['airport_id'].apply(lambda x: int_to_list(x))"
   ]
  },
  {
   "cell_type": "markdown",
   "metadata": {},
   "source": [
    "# passo 2 associazione dei tragitti per ogni città e creazione del grafo"
   ]
  },
  {
   "cell_type": "code",
   "execution_count": 18,
   "metadata": {},
   "outputs": [
    {
     "data": {
      "application/vnd.jupyter.widget-view+json": {
       "model_id": "daebdd07098d4b08a8949e43f5c32228",
       "version_major": 2,
       "version_minor": 0
      },
      "text/plain": [
       "HBox(children=(FloatProgress(value=0.0, max=7698.0), HTML(value='')))"
      ]
     },
     "metadata": {},
     "output_type": "display_data"
    },
    {
     "name": "stdout",
     "output_type": "stream",
     "text": [
      "\n"
     ]
    },
    {
     "data": {
      "application/vnd.jupyter.widget-view+json": {
       "model_id": "1bd66ea8073f4ae5a09cf0484313b5e5",
       "version_major": 2,
       "version_minor": 0
      },
      "text/plain": [
       "HBox(children=(FloatProgress(value=0.0, max=67240.0), HTML(value='')))"
      ]
     },
     "metadata": {},
     "output_type": "display_data"
    },
    {
     "name": "stdout",
     "output_type": "stream",
     "text": [
      "\n"
     ]
    },
    {
     "data": {
      "application/vnd.jupyter.widget-view+json": {
       "model_id": "63c51b624c0041679ded0677d1e7f2f4",
       "version_major": 2,
       "version_minor": 0
      },
      "text/plain": [
       "HBox(children=(FloatProgress(value=0.0, max=66771.0), HTML(value='')))"
      ]
     },
     "metadata": {},
     "output_type": "display_data"
    },
    {
     "name": "stdout",
     "output_type": "stream",
     "text": [
      "\n"
     ]
    }
   ],
   "source": [
    "#passo 2.1b versione ottimizzata\n",
    "#calcolo la distanza di ogni tragitto\n",
    "dictionary_airports = {}\n",
    "Paths_df['path_lenght'] = np.zeros(len(Paths_df.index))\n",
    "for e in tqdm(airports_df.index):\n",
    "    dictionary_airports[airports_df.loc[e,'Airport_ID']] = [airports_df.loc[e,'Latitude'],airports_df.loc[e,'Longitude']]\n",
    "Airports_Available_List = list(dictionary_airports.keys())\n",
    "\n",
    "#nel caso non ci sia alcun aeroporto correlato alla tratta,sia di partenzia che di arrivo, elimino quella tratta\n",
    "for e in tqdm(Paths_df.index):\n",
    "    if Paths_df.loc[e,'Source_airport_ID'] not in Airports_Available_List or Paths_df.loc[e,'Destination_airport_ID'] not in Airports_Available_List:\n",
    "        Paths_df.drop(e,inplace = True)\n",
    "    \n",
    "for e in tqdm(Paths_df.index):\n",
    "    start = Paths_df.loc[e,'Source_airport_ID']\n",
    "    end = Paths_df.loc[e,'Destination_airport_ID']\n",
    "    Paths_df.loc[e,'path_lenght'] = haversine_distances([[dictionary_airports[start][0]\n",
    "                                                         ,dictionary_airports[start][1]]\n",
    "                                                        ,[dictionary_airports[end][0]\n",
    "                                                         ,dictionary_airports[end][1]]])[0][1]\n",
    "\n",
    "    "
   ]
  },
  {
   "cell_type": "code",
   "execution_count": 19,
   "metadata": {},
   "outputs": [
    {
     "data": {
      "application/vnd.jupyter.widget-view+json": {
       "model_id": "55f6b689227a435bb1201966dbf74542",
       "version_major": 2,
       "version_minor": 0
      },
      "text/plain": [
       "HBox(children=(FloatProgress(value=0.0, max=66771.0), HTML(value='')))"
      ]
     },
     "metadata": {},
     "output_type": "display_data"
    },
    {
     "name": "stdout",
     "output_type": "stream",
     "text": [
      "\n"
     ]
    },
    {
     "data": {
      "application/vnd.jupyter.widget-view+json": {
       "model_id": "d8ded071f27140c8b60dae9e4cafa83c",
       "version_major": 2,
       "version_minor": 0
      },
      "text/plain": [
       "HBox(children=(FloatProgress(value=0.0, max=66771.0), HTML(value='')))"
      ]
     },
     "metadata": {},
     "output_type": "display_data"
    },
    {
     "name": "stdout",
     "output_type": "stream",
     "text": [
      "\n"
     ]
    },
    {
     "data": {
      "application/vnd.jupyter.widget-view+json": {
       "model_id": "dc7572371b8d4390a4c4b924488c639f",
       "version_major": 2,
       "version_minor": 0
      },
      "text/plain": [
       "HBox(children=(FloatProgress(value=0.0, max=7698.0), HTML(value='')))"
      ]
     },
     "metadata": {},
     "output_type": "display_data"
    },
    {
     "name": "stdout",
     "output_type": "stream",
     "text": [
      "\n"
     ]
    },
    {
     "data": {
      "application/vnd.jupyter.widget-view+json": {
       "model_id": "bf44be58c1d14fdcaa193085a450f888",
       "version_major": 2,
       "version_minor": 0
      },
      "text/plain": [
       "HBox(children=(FloatProgress(value=0.0, max=26569.0), HTML(value='')))"
      ]
     },
     "metadata": {},
     "output_type": "display_data"
    },
    {
     "name": "stdout",
     "output_type": "stream",
     "text": [
      "\n"
     ]
    },
    {
     "data": {
      "application/vnd.jupyter.widget-view+json": {
       "model_id": "11cfead8f0a8490a8f2d1ff9a9dc113b",
       "version_major": 2,
       "version_minor": 0
      },
      "text/plain": [
       "HBox(children=(FloatProgress(value=0.0, max=26569.0), HTML(value='')))"
      ]
     },
     "metadata": {},
     "output_type": "display_data"
    },
    {
     "name": "stdout",
     "output_type": "stream",
     "text": [
      "\n"
     ]
    },
    {
     "data": {
      "application/vnd.jupyter.widget-view+json": {
       "model_id": "e320af6870c24e7085aa98342661e9b9",
       "version_major": 2,
       "version_minor": 0
      },
      "text/plain": [
       "HBox(children=(FloatProgress(value=0.0, max=26569.0), HTML(value='')))"
      ]
     },
     "metadata": {},
     "output_type": "display_data"
    },
    {
     "name": "stdout",
     "output_type": "stream",
     "text": [
      "\n"
     ]
    }
   ],
   "source": [
    "#passo 2.2b versione ottimizzata\n",
    "#ora Path_Df non ha più senso di essere utilizzato, posso creare un dizionario di percorsi. la coppia di chiavi sarà \n",
    "#l'aereoporto di partenza mentre il valore sarà il tempo di volo.\n",
    "earth_diameter =12742 #[km]\n",
    "Plane_Speed  = 900 #[km/h]\n",
    "Paths_Dictionary = {}\n",
    "for e in tqdm(Paths_df.index):\n",
    "    Paths_Dictionary[Paths_df.loc[e,'Source_airport_ID']] = {}\n",
    "for e in tqdm(Paths_df.index):\n",
    "        distance = Paths_df.loc[e,'path_lenght']\n",
    "        time = distance * (earth_diameter/2) / Plane_Speed #[h]\n",
    "        Paths_Dictionary[Paths_df.loc[e,'Source_airport_ID']][Paths_df.loc[e,'Destination_airport_ID']] = time\n",
    "#crea un dizionario dove per ogni aereoporto collego tutte le città raggiungibili\n",
    "#chiave = airport_id , city   valore = own_airport\n",
    "Airports_City_Dictionary = {}\n",
    "for e in tqdm(airports_df.index):\n",
    "    Airports_City_Dictionary[airports_df.loc[e,'Airport_ID']] = {}\n",
    "for e in tqdm(df.index):\n",
    "    airports_list = df.loc[e,'airport_id']\n",
    "    for h in airports_list:\n",
    "        Airports_City_Dictionary[h][e] = df.loc[e,'own_airport']\n",
    "Paths_Available_Dict = {}\n",
    "for e in tqdm(df.index):\n",
    "    airports_list = df.loc[e,'airport_id']\n",
    "    Paths_Available = []\n",
    "    Paths_Available_Dict[e] = {}\n",
    "    for value,index in enumerate(airports_list):\n",
    "        try:\n",
    "            Paths_Available.append(Paths_Dictionary[airports_list[value]])\n",
    "        except:\n",
    "            pass\n",
    "        \n",
    "    for f in Paths_Available:\n",
    "        for pos,key in enumerate(f):\n",
    "            Paths_Available_Dict[e][key]=f[key] + 2 * df.loc[e,'own_airport']\n",
    "dictionary = {}\n",
    "for city in tqdm(df.index):\n",
    "    dictionary[city] =[]\n",
    "    for airport_destination in Paths_Available_Dict[city]:    \n",
    "        for destination_city in Airports_City_Dictionary[airport_destination]:\n",
    "            dictionary[city].append((destination_city,Paths_Available_Dict[city][airport_destination]+2*df.loc[destination_city,'own_airport']))\n",
    "    \n",
    "    "
   ]
  },
  {
   "cell_type": "code",
   "execution_count": 20,
   "metadata": {},
   "outputs": [],
   "source": [
    "#salvo il dizionario per evitare ulteriori inizializzazioni\n",
    "with open(\"dictionary.json\", \"w\") as outfile:\n",
    "    json.dump(dictionary, outfile)"
   ]
  },
  {
   "cell_type": "code",
   "execution_count": 21,
   "metadata": {},
   "outputs": [],
   "source": [
    "#riprendo il dizionario già calcolato\n",
    "with open(\"dictionary.json\", \"r\") as outfile:\n",
    "    data = json.load(outfile)\n",
    "dictionary = {}\n",
    "for e in data.keys():\n",
    "    dictionary[int(e)] = data[e]\n",
    "    "
   ]
  },
  {
   "cell_type": "code",
   "execution_count": 22,
   "metadata": {},
   "outputs": [],
   "source": [
    "# creation of the graph with Networkx library from the dictionary C \n",
    "G = nx.DiGraph()\n",
    "for city in dictionary:\n",
    "    G.add_node(city)\n",
    "\n",
    "for city in dictionary:\n",
    "    for near_city in dictionary[city]:\n",
    "        G.add_edge(city,near_city[0],weight = near_city[1])"
   ]
  },
  {
   "cell_type": "code",
   "execution_count": 23,
   "metadata": {},
   "outputs": [
    {
     "data": {
      "text/plain": [
       "True"
      ]
     },
     "execution_count": 23,
     "metadata": {},
     "output_type": "execute_result"
    }
   ],
   "source": [
    "nx.has_path(G,536,873)"
   ]
  },
  {
   "cell_type": "code",
   "execution_count": 24,
   "metadata": {},
   "outputs": [],
   "source": [
    "my_path=nx.shortest_path(G,536,873, weight=\"weight\")\n",
    "#ore = nx.path_weight(G,my_path, \"weight\")"
   ]
  },
  {
   "cell_type": "code",
   "execution_count": 25,
   "metadata": {},
   "outputs": [
    {
     "name": "stdout",
     "output_type": "stream",
     "text": [
      "[536, 7631, 873]\n"
     ]
    },
    {
     "data": {
      "text/html": [
       "<div>\n",
       "<style scoped>\n",
       "    .dataframe tbody tr th:only-of-type {\n",
       "        vertical-align: middle;\n",
       "    }\n",
       "\n",
       "    .dataframe tbody tr th {\n",
       "        vertical-align: top;\n",
       "    }\n",
       "\n",
       "    .dataframe thead th {\n",
       "        text-align: right;\n",
       "    }\n",
       "</style>\n",
       "<table border=\"1\" class=\"dataframe\">\n",
       "  <thead>\n",
       "    <tr style=\"text-align: right;\">\n",
       "      <th></th>\n",
       "      <th>city</th>\n",
       "      <th>lat</th>\n",
       "      <th>lng</th>\n",
       "      <th>country</th>\n",
       "      <th>population</th>\n",
       "      <th>lat_rad</th>\n",
       "      <th>lng_rad</th>\n",
       "      <th>airport_id</th>\n",
       "      <th>own_airport</th>\n",
       "    </tr>\n",
       "  </thead>\n",
       "  <tbody>\n",
       "    <tr>\n",
       "      <th>536</th>\n",
       "      <td>Milan</td>\n",
       "      <td>45.4669</td>\n",
       "      <td>9.1900</td>\n",
       "      <td>Italy</td>\n",
       "      <td>1351562.0</td>\n",
       "      <td>0.793547</td>\n",
       "      <td>0.160396</td>\n",
       "      <td>[1529]</td>\n",
       "      <td>1.0</td>\n",
       "    </tr>\n",
       "    <tr>\n",
       "      <th>7631</th>\n",
       "      <td>Steinbach am Taunus</td>\n",
       "      <td>50.1678</td>\n",
       "      <td>8.5719</td>\n",
       "      <td>Germany</td>\n",
       "      <td>10682.0</td>\n",
       "      <td>0.875593</td>\n",
       "      <td>0.149608</td>\n",
       "      <td>[340]</td>\n",
       "      <td>0.0</td>\n",
       "    </tr>\n",
       "    <tr>\n",
       "      <th>873</th>\n",
       "      <td>Olinda</td>\n",
       "      <td>-8.0000</td>\n",
       "      <td>-34.8500</td>\n",
       "      <td>Brazil</td>\n",
       "      <td>921840.0</td>\n",
       "      <td>-0.139626</td>\n",
       "      <td>-0.608247</td>\n",
       "      <td>[2610]</td>\n",
       "      <td>0.0</td>\n",
       "    </tr>\n",
       "  </tbody>\n",
       "</table>\n",
       "</div>"
      ],
      "text/plain": [
       "                     city      lat      lng  country  population   lat_rad  \\\n",
       "536                 Milan  45.4669   9.1900    Italy   1351562.0  0.793547   \n",
       "7631  Steinbach am Taunus  50.1678   8.5719  Germany     10682.0  0.875593   \n",
       "873                Olinda  -8.0000 -34.8500   Brazil    921840.0 -0.139626   \n",
       "\n",
       "       lng_rad airport_id  own_airport  \n",
       "536   0.160396     [1529]          1.0  \n",
       "7631  0.149608      [340]          0.0  \n",
       "873  -0.608247     [2610]          0.0  "
      ]
     },
     "execution_count": 25,
     "metadata": {},
     "output_type": "execute_result"
    }
   ],
   "source": [
    "print(my_path)\n",
    "#for e in my_path:\n",
    "    #print(dictionary[e],'\\n')\n",
    "df.loc[my_path]"
   ]
  }
 ],
 "metadata": {
  "kernelspec": {
   "display_name": "Python 3",
   "language": "python",
   "name": "python3"
  },
  "language_info": {
   "codemirror_mode": {
    "name": "ipython",
    "version": 3
   },
   "file_extension": ".py",
   "mimetype": "text/x-python",
   "name": "python",
   "nbconvert_exporter": "python",
   "pygments_lexer": "ipython3",
   "version": "3.8.3"
  }
 },
 "nbformat": 4,
 "nbformat_minor": 4
}
