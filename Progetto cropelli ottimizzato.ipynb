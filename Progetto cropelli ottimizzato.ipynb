{
 "cells": [
  {
   "cell_type": "code",
   "execution_count": 19,
   "metadata": {},
   "outputs": [],
   "source": [
    "import pandas as pd\n",
    "#import geopandas as gpd\n",
    "import numpy as np\n",
    "import matplotlib.pyplot as plt \n",
    "import folium \n",
    "import math\n",
    "import numpy as np\n",
    "from sklearn.metrics.pairwise import euclidean_distances,haversine_distances\n",
    "from typing import List\n",
    "from collections import defaultdict \n",
    "from tqdm.notebook import tqdm\n",
    "import networkx as nx\n",
    "from math import radians\n",
    "import json\n",
    "from math import pi"
   ]
  },
  {
   "cell_type": "code",
   "execution_count": 20,
   "metadata": {},
   "outputs": [],
   "source": [
    "#Read the dataset \n",
    "\n",
    "fields = [\"city\",\"lat\",\"lng\",\"country\",\"population\"]\n",
    "df = pd.read_excel('worldcities.xlsx', usecols=fields,engine=\"openpyxl\")\n",
    "airports_df= pd.read_csv('airports.csv')\n",
    "Paths_df= pd.read_csv('routes.csv')\n",
    "number_city = len(df)\n",
    "#sostituisco il nome della prima colonna del data frame airport_df per comodità (tolgo lo spazio)\n",
    "aux_list = list(airports_df.columns)\n",
    "aux_list[0] = 'Airport_ID'\n",
    "airports_df.columns = aux_list\n",
    "#elimino gli spazi dai nomi delle colonne di Paths_df\n",
    "Paths_df.columns =[column.replace(\" \", \"_\") for column in Paths_df.columns]\n",
    "#caratterizzo i dati \n",
    "#elimino da paths_df tutte le colonne che hanno dati rilevanti mancanti\n",
    "Paths_df = Paths_df[(Paths_df['Destination_airport_ID'] != '\\\\N') & (Paths_df['Source_airport_ID'] != '\\\\N')]\n",
    "#converto i dati nelle colonne \"Source airport ID\", \"Destination airport ID\" in interi\n",
    "Paths_df[[\"Source_airport_ID\", \"Destination_airport_ID\"]] = Paths_df[[\"Source_airport_ID\", \"Destination_airport_ID\"]].apply(pd.to_numeric)\n",
    "#creo le colonne 'Latitude_rad' 'Longitude_rad' applicando la funzione radians(x) alle colonne \"Latitude\" \"Longitude\"\n",
    "#questo per evitare in futuro di doverle calcolare più volte inutilmente\n",
    "airports_df['Latitude_rad'] = airports_df[\"Latitude\"].apply(lambda x: radians(x))\n",
    "airports_df['Longitude_rad'] = airports_df[\"Longitude\"].apply(lambda x: radians(x))\n",
    "df['lat_rad'] = df['lat'].apply(lambda x: radians(x))\n",
    "df['lng_rad'] = df['lng'].apply(lambda x: radians(x))"
   ]
  },
  {
   "cell_type": "code",
   "execution_count": 21,
   "metadata": {},
   "outputs": [],
   "source": [
    "def int_to_list (a):\n",
    "    #converte un intero in una lista con quell'intero come unico elemento\n",
    "    if type (a) == int:\n",
    "        return([a])\n",
    "    else:\n",
    "        return(a)\n",
    "def List_comparison (a,b):\n",
    "    #prende in input due liste, se hanno almeno un elemento in comune restituisce True, altrimenti False\n",
    "    result = False\n",
    "    for e in a:\n",
    "        if e in b:\n",
    "            result = True\n",
    "    return(result)"
   ]
  },
  {
   "cell_type": "code",
   "execution_count": 22,
   "metadata": {},
   "outputs": [
    {
     "data": {
      "application/vnd.jupyter.widget-view+json": {
       "model_id": "e2ece3ede32a46eb89ed303867bfdf16",
       "version_major": 2,
       "version_minor": 0
      },
      "text/plain": [
       "HBox(children=(FloatProgress(value=0.0, max=7698.0), HTML(value='')))"
      ]
     },
     "metadata": {},
     "output_type": "display_data"
    },
    {
     "name": "stdout",
     "output_type": "stream",
     "text": [
      "\n"
     ]
    },
    {
     "data": {
      "application/vnd.jupyter.widget-view+json": {
       "model_id": "acc5e284f9a2476ca7269b3c818abe9b",
       "version_major": 2,
       "version_minor": 0
      },
      "text/plain": [
       "HBox(children=(FloatProgress(value=0.0, max=26569.0), HTML(value='')))"
      ]
     },
     "metadata": {},
     "output_type": "display_data"
    },
    {
     "name": "stdout",
     "output_type": "stream",
     "text": [
      "\n"
     ]
    }
   ],
   "source": [
    "#trovo il codice dell'aeroporto della corrispettiva città, se sono presenti più aeroporti per una città vengono \n",
    "#elencati in una lista\n",
    "#l'associazione è fatta per le coppie (city,country) , non posso associare solamente usanto city come discriminante\n",
    "#in quanto, per esempio, possono esserci due città con lo stesso nome (Valencia esiste sia in Spagna sia in Venezuela)\n",
    "#è possibile che vi siano città senza alcun aereoporto associato dopo questa fase per 2 motivi:\n",
    "# 1: non esiste effettivamente alcun aeroporto\n",
    "# 2: i dataframe df e airports_df non hanno rappresentazioni univoce per la coppia city-country in quanto certe \n",
    "#rappresentazioni di country non sono coerenti (es: South Korea in df e Korea,South in airports_df)\n",
    "\n",
    "lista = [[]] *(len(df.index))\n",
    "dictionary_aux ={}\n",
    "for e in tqdm(airports_df.index):\n",
    "    try:\n",
    "        dictionary_aux[(airports_df.loc[e,'City'],airports_df.loc[e,'Country'])].append(airports_df.loc[e,'Airport_ID'])\n",
    "    except KeyError:\n",
    "        dictionary_aux[(airports_df.loc[e,'City'],airports_df.loc[e,'Country'])] = [airports_df.loc[e,'Airport_ID']]\n",
    "        \n",
    "for e in tqdm(df.index):\n",
    "        try:\n",
    "            lista[e] = dictionary_aux[(df.loc[e,'city'],df.loc[e,'country'])]\n",
    "        except KeyError:\n",
    "            lista[e] = []\n",
    "df['airport_id'] = lista\n"
   ]
  },
  {
   "cell_type": "code",
   "execution_count": 23,
   "metadata": {},
   "outputs": [
    {
     "data": {
      "application/vnd.jupyter.widget-view+json": {
       "model_id": "dbc2b9b39f484184a92736fa741df6e8",
       "version_major": 2,
       "version_minor": 0
      },
      "text/plain": [
       "HBox(children=(FloatProgress(value=0.0, max=237.0), HTML(value='')))"
      ]
     },
     "metadata": {},
     "output_type": "display_data"
    },
    {
     "name": "stdout",
     "output_type": "stream",
     "text": [
      "\n"
     ]
    },
    {
     "data": {
      "application/vnd.jupyter.widget-view+json": {
       "model_id": "97371f9c265c4c10943d950de5459d71",
       "version_major": 2,
       "version_minor": 0
      },
      "text/plain": [
       "HBox(children=(FloatProgress(value=0.0, max=26569.0), HTML(value='')))"
      ]
     },
     "metadata": {},
     "output_type": "display_data"
    },
    {
     "name": "stderr",
     "output_type": "stream",
     "text": [
      "<ipython-input-23-c11ae4e2be03>:56: SettingWithCopyWarning: \n",
      "A value is trying to be set on a copy of a slice from a DataFrame.\n",
      "Try using .loc[row_indexer,col_indexer] = value instead\n",
      "\n",
      "See the caveats in the documentation: https://pandas.pydata.org/pandas-docs/stable/user_guide/indexing.html#returning-a-view-versus-a-copy\n",
      "  aux_airports['distance'] = [haversine_distances([[lat,lng],\n"
     ]
    },
    {
     "name": "stdout",
     "output_type": "stream",
     "text": [
      "\n"
     ]
    }
   ],
   "source": [
    "#per tutte le città senza aeroporto calcolo l'areoporto più vicino nello stesso paese\n",
    "#se non esiste un aeroporto in quel paese cerco l'aeroporto più vicino\n",
    "df['own_airport'] = np.ones(len(df.index)) \n",
    "aux_list = list(set(airports_df['Country']))\n",
    "aux_dictionary_1 = {}\n",
    "for e in tqdm(aux_list):\n",
    "        aux_dictionary_1[e] = list(airports_df[airports_df['Country'] == e].index)\n",
    "    \n",
    "    \n",
    "for e in tqdm(df.index):\n",
    "    if df.loc[e,'airport_id'] ==[]:\n",
    "        country = df.loc[e].country\n",
    "        #aux_airports contiene tutti gli aeroporti presenti nel paese della città che sto analizzando\n",
    "        try:\n",
    "            aux_airports = airports_df.loc[aux_dictionary_1[country]]\n",
    "            aux_airports['distance'] = [(haversine_distances([[df.loc[e,'lat_rad'],df.loc[e,'lng_rad']],\n",
    "                                                         [aux_airports.loc[x,'Latitude_rad'],\n",
    "                                                          aux_airports.loc[x,'Longitude_rad']]])[0][1])\n",
    "                                    for x in aux_airports.index]\n",
    "            \n",
    "            df.loc[e,'airport_id'] = int(aux_airports[aux_airports.distance ==  aux_airports['distance'].min()].Airport_ID)\n",
    "            if df.loc[e,'city'] != aux_airports[aux_airports.distance ==  aux_airports['distance'].min()].City.item():\n",
    "                df.loc[e,'own_airport'] = 0\n",
    "        except KeyError:\n",
    "            \n",
    "            #per ogni aeroporto calcola la distanza da quella città e prelevo solo gli aereoporti di quella \n",
    "            #città oppure il più vicino\n",
    "            lat = df.loc[e,'lat_rad']\n",
    "            lng = df.loc[e,'lng_rad']\n",
    "            airports_near_found = False\n",
    "            width = 0.01\n",
    "            while airports_near_found == False:\n",
    "                latmin = lat - width\n",
    "                latmax = lat + width\n",
    "                lngmin = lng - width\n",
    "                lngmax = lng + width\n",
    "                if lngmin < -pi:\n",
    "                    lngmin = 2 *pi - lngmin\n",
    "                    aux_airports = airports_df[(airports_df['Latitude_rad'] > latmin) & (airports_df['Latitude_rad'] < latmax) \n",
    "                                                   & ((airports_df['Longitude_rad'] > lngmin) \n",
    "                                                   | (airports_df['Longitude_rad'] < lngmax))]\n",
    "                elif lngmax > pi:\n",
    "                    lngmax = lngmax - 2 * pi\n",
    "                    aux_airports = airports_df[(airports_df['Latitude_rad'] > latmin) & (airports_df['Latitude_rad'] < latmax) \n",
    "                                                   & ((airports_df['Longitude_rad'] > lngmin) \n",
    "                                                   | (airports_df['Longitude_rad'] < lngmax))]\n",
    "                else:\n",
    "                    aux_airports = airports_df[(airports_df['Latitude_rad'] > latmin) & (airports_df['Latitude_rad'] < latmax)\n",
    "                                                   & (airports_df['Longitude_rad'] > lngmin) \n",
    "                                                   & (airports_df['Longitude_rad'] < lngmax)]\n",
    "                if len(aux_airports) == 0:\n",
    "                    width += 0.01\n",
    "                else:\n",
    "                    airports_near_found = True\n",
    "                    \n",
    "            aux_airports['distance'] = [haversine_distances([[lat,lng],\n",
    "                                                         [aux_airports.loc[x,'Latitude_rad'],\n",
    "                                                          aux_airports.loc[x,'Longitude_rad']]])[0][1]\n",
    "                                    for x in aux_airports.index]\n",
    "            \n",
    "            #ordino gli aeroporti per distanza\n",
    "            aux_airports = aux_airports.sort_values(by=['distance'], ascending = 0, inplace = False)\n",
    "            #trovo il primo aeroporto che non appartiene a quella città\n",
    "            count = 0\n",
    "            find = 0\n",
    "            #l'aeroporto più vicino è effettivamente associato alla città analizzata se ne esiste uno oppure \n",
    "            #potrebbe essere associato ad un altra città limitrofa\n",
    "            while find == 0:\n",
    "                try: \n",
    "                    if aux_airports.iloc[count]['City'] != df.loc[e,'city']:\n",
    "                        find = 1\n",
    "                except IndexError:\n",
    "                    find = 1\n",
    "                if find == 0:\n",
    "                    count += 1\n",
    "            #se count >0 ho trovato aereoporti effettivamente associati alla città\n",
    "            #se count è zero ho trovato l'aereoporto più vicino che tuttavia è in una città limitrofa e devo considerare\n",
    "            #che devo fare un extra tragitto epr raggiungere l'aereoporto\n",
    "            if count > 0:\n",
    "                aux_airports = aux_airports.iloc[:count]\n",
    "                df.loc[e,'airport_id'] = [a for a in aux_airports['Airport_ID']]\n",
    "            if count == 0:\n",
    "                df.loc[e,'own_airport'] = 0\n",
    "                df.loc[e,'airport_id'] = aux_airports.iloc[0]['Airport_ID']\n",
    "\n",
    "df['airport_id'] = df['airport_id'].apply(lambda x: int_to_list(x))             "
   ]
  },
  {
   "cell_type": "code",
   "execution_count": null,
   "metadata": {},
   "outputs": [],
   "source": [
    "#salvo il dataframe ricalcolato per evitare ulteriori inizializzazioni\n",
    "df.to_csv (r'export_dataframe_1.csv', index = False, header=True)"
   ]
  },
  {
   "cell_type": "code",
   "execution_count": null,
   "metadata": {},
   "outputs": [],
   "source": [
    "#riprendo il dataframe già calcolato\n",
    "df = pd.read_csv('export_dataframe_1.csv')\n",
    "df['airport_id'] = df['airport_id'].apply(lambda x: json.loads(x))\n",
    "df['airport_id'] = df['airport_id'].apply(lambda x: int_to_list(x))"
   ]
  },
  {
   "cell_type": "code",
   "execution_count": null,
   "metadata": {},
   "outputs": [],
   "source": [
    "dictionary_aux ={}\n",
    "for e in tqdm(Paths_df.index):\n",
    "    try:\n",
    "        dictionary_path[(Paths_df.loc[e,'Source_airport_ID'],Paths_df.loc[e,'Destination_airport_ID'])]\n",
    "\n",
    "        \n",
    "        \n",
    "    "
   ]
  },
  {
   "cell_type": "code",
   "execution_count": 47,
   "metadata": {},
   "outputs": [
    {
     "data": {
      "application/vnd.jupyter.widget-view+json": {
       "model_id": "c1f96d271b42451eafec4671bade95fd",
       "version_major": 2,
       "version_minor": 0
      },
      "text/plain": [
       "HBox(children=(FloatProgress(value=0.0, max=7698.0), HTML(value='')))"
      ]
     },
     "metadata": {},
     "output_type": "display_data"
    },
    {
     "name": "stdout",
     "output_type": "stream",
     "text": [
      "\n"
     ]
    },
    {
     "data": {
      "application/vnd.jupyter.widget-view+json": {
       "model_id": "4107cc1f3fd6422093d48c0112af49fa",
       "version_major": 2,
       "version_minor": 0
      },
      "text/plain": [
       "HBox(children=(FloatProgress(value=0.0, max=66771.0), HTML(value='')))"
      ]
     },
     "metadata": {},
     "output_type": "display_data"
    },
    {
     "name": "stdout",
     "output_type": "stream",
     "text": [
      "\n"
     ]
    }
   ],
   "source": [
    "#calcolo la distanza di ogni tragitto\n",
    "dictionary_airports = {}\n",
    "Paths_df['path_lenght'] = np.zeros(len(Paths_df.index))\n",
    "for e in tqdm(airports_df.index):\n",
    "    dictionary_airports[airports_df.loc[e,'Airport_ID']] = [airports_df.loc[e,'Latitude'],airports_df.loc[e,'Longitude']]\n",
    "    \n",
    "    \n",
    "for e in tqdm(Paths_df.index):\n",
    "    start = Paths_df.loc[e,'Source_airport_ID']\n",
    "    end = Paths_df.loc[e,'Destination_airport_ID']\n",
    "    Paths_df.loc[e,'path_lenght'] = haversine_distances([[dictionary_airports[start][0]\n",
    "                                                         ,dictionary_airports[start][1]]\n",
    "                                                        ,[dictionary_airports[end][0]\n",
    "                                                         ,dictionary_airports[end][1]]])[0][1]\n",
    "    #nel caso non ci sia alcun aeroporto correlato alla tratta,sia di partenzia che di arrivo, elimino quella tratta\n",
    "\n",
    "    "
   ]
  },
  {
   "cell_type": "code",
   "execution_count": null,
   "metadata": {},
   "outputs": [],
   "source": [
    "dictionary = {}\n",
    "earth_diameter =12742 #[km]\n",
    "Plane_Speed  = 900 #[km/h]\n",
    "#per ogni città cerco i 30 percorsi disponibili che hanno come partenza un aereoporto di quella città ordinati per distanza\n",
    "for e in tqdm(df.index):\n",
    "        airports_list = df.loc[e,'airport_id']\n",
    "        Paths_Available = Paths_df.query('Source_airport_ID in @airports_list').sort_values(by=['path_lenght'], \n",
    "                                                                                          ascending = 1, inplace = False).iloc[0:30]\n",
    "        #ci sono dei path che presentano stessa partenza e stesso arrivo ma con modelli di aereo differenti, \n",
    "        #elimino quindi i duplicati che si possono creare per questo effetto\n",
    "        #trasformando i risultati in un insieme e poi di nuovo in una lista\n",
    "        Paths_Available_List = list(set([h for h in Paths_Available['Destination_airport_ID']]))\n",
    "        #tra tutte le città disponibili, quelle raggiungibili sono quelle che hanno come aereoporto associato un aereoporto\n",
    "        #di destinazione contenuto in Paths_Avaible_List\n",
    "        City_reacheable = df\n",
    "        City_reacheable['Linked'] = City_reacheable['airport_id'].apply(lambda x: List_comparison(Paths_Available_List,x))\n",
    "        City_reacheable = City_reacheable[City_reacheable['Linked'] == True]\n",
    "        links_list = []\n",
    "        start_latutude = df.loc[e,'lat']\n",
    "        start_longitude = df.loc[e,'lng']\n",
    "        for t in City_reacheable.index:\n",
    "            #2 ore aggiuntive se la città non ha l'aeroporto\n",
    "            distance = haversine_distances([[start_latutude,start_longitude]\n",
    "                                            ,[City_reacheable.loc[t,'lat']\n",
    "                                              ,City_reacheable.loc[t,'lng']]])[0][1]\n",
    "            time = distance * (earth_diameter/2) / Plane_Speed\n",
    "            time_path = 2 * (City_reacheable.loc[t,'own_airport']+df.loc[e,'own_airport']) + time \n",
    "            links_list.append((t,time_path))\n",
    "        dictionary[e] = links_list    \n",
    "            "
   ]
  },
  {
   "cell_type": "code",
   "execution_count": 53,
   "metadata": {},
   "outputs": [
    {
     "ename": "KeyError",
     "evalue": "(1, 2)",
     "output_type": "error",
     "traceback": [
      "\u001b[1;31m---------------------------------------------------------------------------\u001b[0m",
      "\u001b[1;31mKeyError\u001b[0m                                  Traceback (most recent call last)",
      "\u001b[1;32m<ipython-input-53-0c3ad34f9fba>\u001b[0m in \u001b[0;36m<module>\u001b[1;34m\u001b[0m\n\u001b[1;32m----> 1\u001b[1;33m \u001b[0mdictionary_airports\u001b[0m\u001b[1;33m[\u001b[0m\u001b[1;36m1\u001b[0m\u001b[1;33m,\u001b[0m\u001b[1;36m2\u001b[0m\u001b[1;33m]\u001b[0m\u001b[1;33m\u001b[0m\u001b[1;33m\u001b[0m\u001b[0m\n\u001b[0m",
      "\u001b[1;31mKeyError\u001b[0m: (1, 2)"
     ]
    }
   ],
   "source": [
    "dictionary_airports[1]"
   ]
  }
 ],
 "metadata": {
  "kernelspec": {
   "display_name": "Python 3",
   "language": "python",
   "name": "python3"
  },
  "language_info": {
   "codemirror_mode": {
    "name": "ipython",
    "version": 3
   },
   "file_extension": ".py",
   "mimetype": "text/x-python",
   "name": "python",
   "nbconvert_exporter": "python",
   "pygments_lexer": "ipython3",
   "version": "3.8.3"
  }
 },
 "nbformat": 4,
 "nbformat_minor": 4
}
