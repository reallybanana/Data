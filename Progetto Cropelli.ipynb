{
 "cells": [
  {
   "cell_type": "markdown",
   "metadata": {},
   "source": [
    "# importazione librerie"
   ]
  },
  {
   "cell_type": "code",
   "execution_count": 1,
   "metadata": {},
   "outputs": [],
   "source": [
    "import pandas as pd\n",
    "#import geopandas as gpd\n",
    "import numpy as np\n",
    "import matplotlib.pyplot as plt \n",
    "import folium \n",
    "import math\n",
    "import numpy as np\n",
    "from sklearn.metrics.pairwise import euclidean_distances,haversine_distances\n",
    "from typing import List\n",
    "from collections import defaultdict \n",
    "from tqdm.notebook import tqdm\n",
    "import networkx as nx\n",
    "from math import radians\n",
    "import json"
   ]
  },
  {
   "cell_type": "markdown",
   "metadata": {},
   "source": [
    "# importazione dataset e caratterizzazione dati"
   ]
  },
  {
   "cell_type": "code",
   "execution_count": 2,
   "metadata": {},
   "outputs": [],
   "source": [
    "#Read the dataset \n",
    "\n",
    "fields = [\"city\",\"lat\",\"lng\",\"country\",\"population\"]\n",
    "df = pd.read_excel('worldcities.xlsx', usecols=fields,engine=\"openpyxl\")\n",
    "airports_df= pd.read_csv('airports.csv')\n",
    "Paths_df= pd.read_csv('routes.csv')\n",
    "number_city = len(df)\n",
    "#sostituisco il nome della prima colonna del data frame airport_df per comodità (tolgo lo spazio)\n",
    "aux_list = list(airports_df.columns)\n",
    "aux_list[0] = 'Airport_ID'\n",
    "airports_df.columns = aux_list\n",
    "#elimino gli spazi dai nomi delle colonne di Paths_df\n",
    "Paths_df.columns =[column.replace(\" \", \"_\") for column in Paths_df.columns]\n",
    "#caratterizzo i dati \n",
    "#elimino da paths_df tutte le colonne che hanno dati rilevanti mancanti\n",
    "Paths_df = Paths_df[(Paths_df['Destination_airport_ID'] != '\\\\N') & (Paths_df['Source_airport_ID'] != '\\\\N')]\n",
    "#converto i dati nelle colonne \"Source airport ID\", \"Destination airport ID\" in interi\n",
    "Paths_df[[\"Source_airport_ID\", \"Destination_airport_ID\"]] = Paths_df[[\"Source_airport_ID\", \"Destination_airport_ID\"]].apply(pd.to_numeric)\n",
    "#creo le colonne 'Latitude_rad' 'Longitude_rad' applicando la funzione radians(x) alle colonne \"Latitude\" \"Longitude\"\n",
    "#questo per evitare in futuro di doverle calcolare più volte inutilmente\n",
    "airports_df['Latitude_rad'] = airports_df[\"Latitude\"].apply(lambda x: radians(x))\n",
    "airports_df['Longitude_rad'] = airports_df[\"Longitude\"].apply(lambda x: radians(x))\n",
    "df['lat_rad'] = df['lat'].apply(lambda x: radians(x))\n",
    "df['lng_rad'] = df['lng'].apply(lambda x: radians(x))"
   ]
  },
  {
   "cell_type": "markdown",
   "metadata": {},
   "source": [
    "# creazioni funzioni richiamabili ausiliarie"
   ]
  },
  {
   "cell_type": "code",
   "execution_count": 3,
   "metadata": {},
   "outputs": [],
   "source": [
    "def int_to_list (a):\n",
    "    #converte un intero in una lista con quell'intero come unico elemento\n",
    "    if type (a) == int:\n",
    "        return([a])\n",
    "    else:\n",
    "        return(a)\n",
    "def List_comparison (a,b):\n",
    "    #prende in input due liste, se hanno almeno un elemento in comune restituisce True, altrimenti False\n",
    "    result = False\n",
    "    for e in a:\n",
    "        if e in b:\n",
    "            result = True\n",
    "    return(result)"
   ]
  },
  {
   "cell_type": "markdown",
   "metadata": {},
   "source": [
    "# passo 1 associazione per ogni città degli aereoporti corrispondenti o limitrofi"
   ]
  },
  {
   "cell_type": "code",
   "execution_count": 4,
   "metadata": {},
   "outputs": [
    {
     "data": {
      "application/vnd.jupyter.widget-view+json": {
       "model_id": "b3310150133f4d9095a29c231f80ecd1",
       "version_major": 2,
       "version_minor": 0
      },
      "text/plain": [
       "HBox(children=(FloatProgress(value=0.0, max=26569.0), HTML(value='')))"
      ]
     },
     "metadata": {},
     "output_type": "display_data"
    },
    {
     "name": "stdout",
     "output_type": "stream",
     "text": [
      "\n"
     ]
    }
   ],
   "source": [
    "#Passo 1.1 versione \"bradipo\"\n",
    "#trovo il codice dell'aeroporto della corrispettiva città, se sono presenti più aeroporti per una città vengono \n",
    "#elencati in una lista\n",
    "#l'associazione è fatta per le coppie (city,country) , non posso associare solamente usanto city come discriminante\n",
    "#in quanto, per esempio, possono esserci due città con lo stesso nome (Valencia esiste sia in Spagna sia in Venezuela)\n",
    "#è possibile che vi siano città senza alcun aereoporto associato dopo questa fase per 2 motivi:\n",
    "# 1: non esiste effettivamente alcun aeroporto\n",
    "# 2: i dataframe df e airports_df non hanno rappresentazioni univoce per la coppia city-country in quanto certe \n",
    "#rappresentazioni di country non sono coerenti (es: South Korea in df e Korea,South in airports_df)\n",
    "lista = [[]] *(len(df.index))\n",
    "for e in tqdm(df.index):\n",
    "        lista[e] = list(airports_df[(airports_df.City == df.loc[e].city) & (airports_df.Country == df.loc[e].country)].Airport_ID)\n",
    "df['airport_id'] = lista"
   ]
  },
  {
   "cell_type": "code",
   "execution_count": 5,
   "metadata": {},
   "outputs": [
    {
     "data": {
      "application/vnd.jupyter.widget-view+json": {
       "model_id": "90a0bc1cfd884c919482190d0e91ed38",
       "version_major": 2,
       "version_minor": 0
      },
      "text/plain": [
       "HBox(children=(FloatProgress(value=0.0, max=7698.0), HTML(value='')))"
      ]
     },
     "metadata": {},
     "output_type": "display_data"
    },
    {
     "name": "stdout",
     "output_type": "stream",
     "text": [
      "\n"
     ]
    },
    {
     "data": {
      "application/vnd.jupyter.widget-view+json": {
       "model_id": "b8d6945f482742ae9eb429ed5049acb5",
       "version_major": 2,
       "version_minor": 0
      },
      "text/plain": [
       "HBox(children=(FloatProgress(value=0.0, max=26569.0), HTML(value='')))"
      ]
     },
     "metadata": {},
     "output_type": "display_data"
    },
    {
     "name": "stdout",
     "output_type": "stream",
     "text": [
      "\n"
     ]
    }
   ],
   "source": [
    "#passo 1.1 versione ottimizzata\n",
    "#l'ottimizzazione consisite nel creare un dizionario ausiliario contenente come chiavi i cretieri di ricerca che \n",
    "#mi servono in airports_df (città e paese) e come valori gli aereoporti associato\n",
    "\n",
    "lista = [[]] *(len(df.index))\n",
    "dictionary_aux ={}\n",
    "for e in tqdm(airports_df.index):\n",
    "    try:\n",
    "        dictionary_aux[(airports_df.loc[e,'City'],airports_df.loc[e,'Country'])].append(airports_df.loc[e,'Airport_ID'])\n",
    "    except KeyError:\n",
    "        dictionary_aux[(airports_df.loc[e,'City'],airports_df.loc[e,'Country'])] = [airports_df.loc[e,'Airport_ID']]\n",
    "        \n",
    "for e in tqdm(df.index):\n",
    "        try:\n",
    "            lista[e] = dictionary_aux[(df.loc[e,'city'],df.loc[e,'country'])]\n",
    "        except KeyError:\n",
    "            lista[e] = []\n",
    "df['airport_id'] = lista\n",
    "#l'aumento di performance è evidente..."
   ]
  },
  {
   "cell_type": "code",
   "execution_count": 6,
   "metadata": {
    "scrolled": false
   },
   "outputs": [
    {
     "data": {
      "application/vnd.jupyter.widget-view+json": {
       "model_id": "9f74a5174a7d45dc90f9efad9ef9e07a",
       "version_major": 2,
       "version_minor": 0
      },
      "text/plain": [
       "HBox(children=(FloatProgress(value=0.0, max=26569.0), HTML(value='')))"
      ]
     },
     "metadata": {},
     "output_type": "display_data"
    },
    {
     "name": "stderr",
     "output_type": "stream",
     "text": [
      "<ipython-input-6-abaf2cafd64d>:10: SettingWithCopyWarning: \n",
      "A value is trying to be set on a copy of a slice from a DataFrame.\n",
      "Try using .loc[row_indexer,col_indexer] = value instead\n",
      "\n",
      "See the caveats in the documentation: https://pandas.pydata.org/pandas-docs/stable/user_guide/indexing.html#returning-a-view-versus-a-copy\n",
      "  aux_airports['distance'] = [haversine_distances([[df.loc[e,'lat_rad'],df.loc[e,'lng_rad']],\n"
     ]
    },
    {
     "name": "stdout",
     "output_type": "stream",
     "text": [
      "\n"
     ]
    }
   ],
   "source": [
    "#per tutte le città senza aeroporto calcolo l'areoporto più vicino nello stesso paese\n",
    "#se non esiste un aeroporto in quel paese cerco l'aeroporto più vicino\n",
    "df['own_airport'] = np.ones(len(df.index))\n",
    "for e in tqdm(df.index):\n",
    "    if df.loc[e,'airport_id'] ==[]:\n",
    "        country = df.loc[e].country\n",
    "        #aux_airports contiene tutti gli aeroporti presenti nel paese della città che sto analizzando\n",
    "        aux_airports = airports_df[airports_df.Country == country]\n",
    "        #per ogni aeroporto calcolo la distanza dalla città che sto analizzando\n",
    "        aux_airports['distance'] = [haversine_distances([[df.loc[e,'lat_rad'],df.loc[e,'lng_rad']],\n",
    "                                                     [aux_airports.loc[x,'Latitude_rad'],\n",
    "                                                      aux_airports.loc[x,'Longitude_rad']]])[0][1]\n",
    "                                for x in aux_airports.index]\n",
    "        #i dataframe airports_df e df presentano alcune incongruenze sulla stringa che definisce la nazione,\n",
    "        #è quindi possibile che aux_airports non contenga alcun record proprio per questa incongruenza\n",
    "        #per ovviare al problema è stato realizzata una gestione dell'eccezione che va a cercare\n",
    "        #l'aereoporto più vicino in termini assoluti\n",
    "    \n",
    "        try:\n",
    "            df.loc[e,'airport_id'] = int(aux_airports[aux_airports.distance ==  aux_airports['distance'].min()].Airport_ID)\n",
    "            if df.loc[e,'city'] != aux_airports[aux_airports.distance ==  aux_airports['distance'].min()].City.item():\n",
    "                df.loc[e,'own_airport'] = 0\n",
    "        except TypeError:\n",
    "            aux_airports = airports_df\n",
    "            #per ogni aeroporto calcola la distanza da quella città e prelevo solo gli aereoporti di quella \n",
    "            #città oppure il più vicino\n",
    "            aux_airports['distance'] = [haversine_distances([[df.loc[e,'lat_rad'],df.loc[e,'lng_rad']],\n",
    "                                                         [aux_airports.loc[x,'Latitude_rad'],\n",
    "                                                          aux_airports.loc[x,'Longitude_rad']]])[0][1]\n",
    "                                    for x in aux_airports.index]\n",
    "            #ordino gli aeroporti per distanza\n",
    "            aux_airports = aux_airports.sort_values(by=['distance'], ascending = 0, inplace = False)\n",
    "            #trovo il primo aeroporto che non appartiene a quella città\n",
    "            count = 0\n",
    "            find = 0\n",
    "            #l'aeroporto più vicino è effettivamente associato alla città analizzata se ne esiste uno oppure \n",
    "            #potrebbe essere associato ad un altra città limitrofa\n",
    "            while find == 0:\n",
    "                if aux_airports.iloc[count]['City'] != df.loc[e,'city']:\n",
    "                    find = 1\n",
    "                else:\n",
    "                    count += 1\n",
    "            #se count >0 ho trovato aereoporti effettivamente associati alla città\n",
    "            #se count è zero ho trovato l'aereoporto più vicino che tuttavia è in una città limitrofa e devo considerare\n",
    "            #che devo fare un extra tragitto epr raggiungere l'aereoporto\n",
    "            if count > 0:\n",
    "                aux_airports = aux_airports.iloc[:count]\n",
    "                df.loc[e,'airport_id'] = [a for a in aux_airports['Airport_ID']]\n",
    "            if count == 0:\n",
    "                df.loc[e,'own_airport'] = 0\n",
    "                df.loc[e,'airport_id'] = aux_airports.iloc[0]['Airport_ID']\n",
    "\n",
    "df['airport_id'] = df['airport_id'].apply(lambda x: int_to_list(x))             "
   ]
  },
  {
   "cell_type": "code",
   "execution_count": 7,
   "metadata": {},
   "outputs": [],
   "source": [
    "#salvo il dataframe ricalcolato per evitare ulteriori inizializzazioni\n",
    "df.to_csv (r'export_dataframe_1.csv', index = False, header=True)"
   ]
  },
  {
   "cell_type": "code",
   "execution_count": 8,
   "metadata": {},
   "outputs": [],
   "source": [
    "#riprendo il dataframe già calcolato\n",
    "df = pd.read_csv('export_dataframe_1.csv')\n",
    "df['airport_id'] = df['airport_id'].apply(lambda x: json.loads(x))\n",
    "df['airport_id'] = df['airport_id'].apply(lambda x: int_to_list(x))"
   ]
  },
  {
   "cell_type": "markdown",
   "metadata": {},
   "source": [
    "# passo 2 associazione dei tragitti per ogni città e creazione del grafo"
   ]
  },
  {
   "cell_type": "code",
   "execution_count": 9,
   "metadata": {},
   "outputs": [
    {
     "data": {
      "application/vnd.jupyter.widget-view+json": {
       "model_id": "9c64cb1830924aa5b33b993095b3065c",
       "version_major": 2,
       "version_minor": 0
      },
      "text/plain": [
       "HBox(children=(FloatProgress(value=0.0, max=67240.0), HTML(value='')))"
      ]
     },
     "metadata": {},
     "output_type": "display_data"
    },
    {
     "name": "stdout",
     "output_type": "stream",
     "text": [
      "\n"
     ]
    }
   ],
   "source": [
    "#calcolo la distanza di ogni tragitto\n",
    "Paths_df['path_lenght'] = np.zeros(len(Paths_df.index))\n",
    "for e in tqdm(Paths_df.index):\n",
    "    start = Paths_df.loc[e,'Source_airport_ID']\n",
    "    end = Paths_df.loc[e,'Destination_airport_ID']\n",
    "    try:\n",
    "        Paths_df.loc[e,'path_lenght'] = haversine_distances([[airports_df[airports_df.Airport_ID == start].Latitude_rad.item()\n",
    "                                                        ,airports_df[airports_df.Airport_ID == start].Longitude_rad.item()]\n",
    "                                                        ,[airports_df[airports_df.Airport_ID == end].Latitude_rad.item()\n",
    "                                                          ,airports_df[airports_df.Airport_ID == end].Longitude_rad.item()]])[0][1]\n",
    "\n",
    "    #nel caso non ci sia alcun aeroporto correlato alla tratta,sia di partenzia che di arrivo, elimino quella tratta\n",
    "    except ValueError:\n",
    "        Paths_df = Paths_df.loc[Paths_df.index != e]\n",
    "    "
   ]
  },
  {
   "cell_type": "code",
   "execution_count": 10,
   "metadata": {},
   "outputs": [
    {
     "data": {
      "application/vnd.jupyter.widget-view+json": {
       "model_id": "a10e59bace4c4583a65c5b184476c6ed",
       "version_major": 2,
       "version_minor": 0
      },
      "text/plain": [
       "HBox(children=(FloatProgress(value=0.0, max=26569.0), HTML(value='')))"
      ]
     },
     "metadata": {},
     "output_type": "display_data"
    },
    {
     "name": "stdout",
     "output_type": "stream",
     "text": [
      "\n"
     ]
    }
   ],
   "source": [
    "dictionary = {}\n",
    "earth_diameter =12742 #[km]\n",
    "Plane_Speed  = 900 #[km/h]\n",
    "#per ogni città cerco i 30 percorsi disponibili che hanno come partenza un aereoporto di quella città ordinati per distanza\n",
    "for e in tqdm(df.index):\n",
    "        airports_list = df.loc[e,'airport_id']\n",
    "        Paths_Available = Paths_df.query('Source_airport_ID in @airports_list').sort_values(by=['path_lenght'], \n",
    "                                                                                          ascending = 1, inplace = False).iloc[0:30]\n",
    "        #ci sono dei path che presentano stessa partenza e stesso arrivo ma con modelli di aereo differenti, \n",
    "        #elimino quindi i duplicati che si possono creare per questo effetto\n",
    "        #trasformando i risultati in un insieme e poi di nuovo in una lista\n",
    "        Paths_Available_List = list(set([h for h in Paths_Available['Destination_airport_ID']]))\n",
    "        #tra tutte le città disponibili, quelle raggiungibili sono quelle che hanno come aereoporto associato un aereoporto\n",
    "        #di destinazione contenuto in Paths_Avaible_List\n",
    "        City_reacheable = df\n",
    "        City_reacheable['Linked'] = City_reacheable['airport_id'].apply(lambda x: List_comparison(Paths_Available_List,x))\n",
    "        City_reacheable = City_reacheable[City_reacheable['Linked'] == True]\n",
    "        links_list = []\n",
    "        start_latutude = df.loc[e,'lat']\n",
    "        start_longitude = df.loc[e,'lng']\n",
    "        for t in City_reacheable.index:\n",
    "            #2 ore aggiuntive se la città non ha l'aeroporto\n",
    "            distance = haversine_distances([[start_latutude,start_longitude]\n",
    "                                            ,[City_reacheable.loc[t,'lat']\n",
    "                                              ,City_reacheable.loc[t,'lng']]])[0][1]\n",
    "            time = distance * (earth_diameter/2) / Plane_Speed\n",
    "            time_path = 2 * (City_reacheable.loc[t,'own_airport']+df.loc[e,'own_airport']) + time \n",
    "            links_list.append((t,time_path))\n",
    "        dictionary[e] = links_list    \n",
    "            "
   ]
  },
  {
   "cell_type": "code",
   "execution_count": 11,
   "metadata": {},
   "outputs": [],
   "source": [
    "#salvo il dizionario per evitare ulteriori inizializzazioni\n",
    "with open(\"dictionary.json\", \"w\") as outfile:\n",
    "    json.dump(dictionary, outfile)"
   ]
  },
  {
   "cell_type": "code",
   "execution_count": 12,
   "metadata": {},
   "outputs": [],
   "source": [
    "#riprendo il dizionario già calcolato\n",
    "with open(\"dictionary.json\", \"r\") as outfile:\n",
    "    data = json.load(outfile)\n",
    "dictionary = {}\n",
    "for e in data.keys():\n",
    "    dictionary[int(e)] = data[e]\n",
    "    "
   ]
  },
  {
   "cell_type": "code",
   "execution_count": 13,
   "metadata": {},
   "outputs": [],
   "source": [
    "# creation of the graph with Networkx library from the dictionary C \n",
    "G = nx.DiGraph()\n",
    "for city in dictionary:\n",
    "    G.add_node(city)\n",
    "\n",
    "for city in dictionary:\n",
    "    for near_city in dictionary[city]:\n",
    "        G.add_edge(city,near_city[0],weight = near_city[1])"
   ]
  },
  {
   "cell_type": "code",
   "execution_count": 14,
   "metadata": {},
   "outputs": [
    {
     "data": {
      "text/plain": [
       "True"
      ]
     },
     "execution_count": 14,
     "metadata": {},
     "output_type": "execute_result"
    }
   ],
   "source": [
    "nx.has_path(G,536,873)"
   ]
  },
  {
   "cell_type": "code",
   "execution_count": 15,
   "metadata": {},
   "outputs": [],
   "source": [
    "my_path=nx.shortest_path(G,536,873, weight=\"weight\")\n",
    "#ore = nx.path_weight(G,my_path, \"weight\")"
   ]
  },
  {
   "cell_type": "code",
   "execution_count": 16,
   "metadata": {},
   "outputs": [
    {
     "name": "stdout",
     "output_type": "stream",
     "text": [
      "[536, 17805, 5325, 3659, 14372, 4403, 14239, 5750, 198, 18281, 3357, 7098, 5267, 4862, 2020, 5619, 1369, 1411, 873]\n"
     ]
    },
    {
     "data": {
      "text/html": [
       "<div>\n",
       "<style scoped>\n",
       "    .dataframe tbody tr th:only-of-type {\n",
       "        vertical-align: middle;\n",
       "    }\n",
       "\n",
       "    .dataframe tbody tr th {\n",
       "        vertical-align: top;\n",
       "    }\n",
       "\n",
       "    .dataframe thead th {\n",
       "        text-align: right;\n",
       "    }\n",
       "</style>\n",
       "<table border=\"1\" class=\"dataframe\">\n",
       "  <thead>\n",
       "    <tr style=\"text-align: right;\">\n",
       "      <th></th>\n",
       "      <th>city</th>\n",
       "      <th>lat</th>\n",
       "      <th>lng</th>\n",
       "      <th>country</th>\n",
       "      <th>population</th>\n",
       "      <th>lat_rad</th>\n",
       "      <th>lng_rad</th>\n",
       "      <th>airport_id</th>\n",
       "      <th>own_airport</th>\n",
       "      <th>Linked</th>\n",
       "    </tr>\n",
       "  </thead>\n",
       "  <tbody>\n",
       "    <tr>\n",
       "      <th>536</th>\n",
       "      <td>Milan</td>\n",
       "      <td>45.4669</td>\n",
       "      <td>9.1900</td>\n",
       "      <td>Italy</td>\n",
       "      <td>1351562.0</td>\n",
       "      <td>0.793547</td>\n",
       "      <td>0.160396</td>\n",
       "      <td>[1529]</td>\n",
       "      <td>1.0</td>\n",
       "      <td>False</td>\n",
       "    </tr>\n",
       "    <tr>\n",
       "      <th>17805</th>\n",
       "      <td>Múggia</td>\n",
       "      <td>45.6000</td>\n",
       "      <td>13.7667</td>\n",
       "      <td>Italy</td>\n",
       "      <td>13111.0</td>\n",
       "      <td>0.795870</td>\n",
       "      <td>0.240274</td>\n",
       "      <td>[1545]</td>\n",
       "      <td>0.0</td>\n",
       "      <td>False</td>\n",
       "    </tr>\n",
       "    <tr>\n",
       "      <th>5325</th>\n",
       "      <td>Braintree</td>\n",
       "      <td>51.8780</td>\n",
       "      <td>0.5500</td>\n",
       "      <td>United Kingdom</td>\n",
       "      <td>53477.0</td>\n",
       "      <td>0.905442</td>\n",
       "      <td>0.009599</td>\n",
       "      <td>[548]</td>\n",
       "      <td>0.0</td>\n",
       "      <td>False</td>\n",
       "    </tr>\n",
       "    <tr>\n",
       "      <th>3659</th>\n",
       "      <td>’s-Hertogenbosch</td>\n",
       "      <td>51.6833</td>\n",
       "      <td>5.3167</td>\n",
       "      <td>Netherlands</td>\n",
       "      <td>134520.0</td>\n",
       "      <td>0.902044</td>\n",
       "      <td>0.092794</td>\n",
       "      <td>[585]</td>\n",
       "      <td>0.0</td>\n",
       "      <td>False</td>\n",
       "    </tr>\n",
       "    <tr>\n",
       "      <th>14372</th>\n",
       "      <td>Konstancin-Jeziorna</td>\n",
       "      <td>52.0938</td>\n",
       "      <td>21.1176</td>\n",
       "      <td>Poland</td>\n",
       "      <td>23694.0</td>\n",
       "      <td>0.909208</td>\n",
       "      <td>0.368572</td>\n",
       "      <td>[679]</td>\n",
       "      <td>0.0</td>\n",
       "      <td>False</td>\n",
       "    </tr>\n",
       "    <tr>\n",
       "      <th>4403</th>\n",
       "      <td>Brovary</td>\n",
       "      <td>50.5114</td>\n",
       "      <td>30.7903</td>\n",
       "      <td>Ukraine</td>\n",
       "      <td>102856.0</td>\n",
       "      <td>0.881590</td>\n",
       "      <td>0.537392</td>\n",
       "      <td>[2939]</td>\n",
       "      <td>0.0</td>\n",
       "      <td>False</td>\n",
       "    </tr>\n",
       "    <tr>\n",
       "      <th>14239</th>\n",
       "      <td>Zernograd</td>\n",
       "      <td>46.8500</td>\n",
       "      <td>40.3000</td>\n",
       "      <td>Russia</td>\n",
       "      <td>24561.0</td>\n",
       "      <td>0.817687</td>\n",
       "      <td>0.703368</td>\n",
       "      <td>[2964]</td>\n",
       "      <td>0.0</td>\n",
       "      <td>False</td>\n",
       "    </tr>\n",
       "    <tr>\n",
       "      <th>5750</th>\n",
       "      <td>Umm al Qaywayn</td>\n",
       "      <td>25.5653</td>\n",
       "      <td>55.5533</td>\n",
       "      <td>United Arab Emirates</td>\n",
       "      <td>44411.0</td>\n",
       "      <td>0.446199</td>\n",
       "      <td>0.969588</td>\n",
       "      <td>[2191]</td>\n",
       "      <td>0.0</td>\n",
       "      <td>False</td>\n",
       "    </tr>\n",
       "    <tr>\n",
       "      <th>198</th>\n",
       "      <td>Jeddah</td>\n",
       "      <td>21.5428</td>\n",
       "      <td>39.1728</td>\n",
       "      <td>Saudi Arabia</td>\n",
       "      <td>3976000.0</td>\n",
       "      <td>0.375993</td>\n",
       "      <td>0.683694</td>\n",
       "      <td>[2071, 2072]</td>\n",
       "      <td>1.0</td>\n",
       "      <td>False</td>\n",
       "    </tr>\n",
       "    <tr>\n",
       "      <th>18281</th>\n",
       "      <td>Adi Keyh</td>\n",
       "      <td>14.8333</td>\n",
       "      <td>39.3667</td>\n",
       "      <td>Eritrea</td>\n",
       "      <td>13061.0</td>\n",
       "      <td>0.258890</td>\n",
       "      <td>0.687079</td>\n",
       "      <td>[3967]</td>\n",
       "      <td>0.0</td>\n",
       "      <td>False</td>\n",
       "    </tr>\n",
       "    <tr>\n",
       "      <th>3357</th>\n",
       "      <td>Al Manāqil</td>\n",
       "      <td>14.2504</td>\n",
       "      <td>32.9800</td>\n",
       "      <td>Sudan</td>\n",
       "      <td>151827.0</td>\n",
       "      <td>0.248716</td>\n",
       "      <td>0.575610</td>\n",
       "      <td>[1175]</td>\n",
       "      <td>0.0</td>\n",
       "      <td>False</td>\n",
       "    </tr>\n",
       "    <tr>\n",
       "      <th>7098</th>\n",
       "      <td>Mao</td>\n",
       "      <td>14.1194</td>\n",
       "      <td>15.3133</td>\n",
       "      <td>Chad</td>\n",
       "      <td>19004.0</td>\n",
       "      <td>0.246430</td>\n",
       "      <td>0.267268</td>\n",
       "      <td>[999]</td>\n",
       "      <td>0.0</td>\n",
       "      <td>False</td>\n",
       "    </tr>\n",
       "    <tr>\n",
       "      <th>5267</th>\n",
       "      <td>Lokoja</td>\n",
       "      <td>7.8004</td>\n",
       "      <td>6.7399</td>\n",
       "      <td>Nigeria</td>\n",
       "      <td>60579.0</td>\n",
       "      <td>0.136143</td>\n",
       "      <td>0.117633</td>\n",
       "      <td>[260]</td>\n",
       "      <td>0.0</td>\n",
       "      <td>False</td>\n",
       "    </tr>\n",
       "    <tr>\n",
       "      <th>4862</th>\n",
       "      <td>Atakpamé</td>\n",
       "      <td>7.5300</td>\n",
       "      <td>1.1200</td>\n",
       "      <td>Togo</td>\n",
       "      <td>80683.0</td>\n",
       "      <td>0.131423</td>\n",
       "      <td>0.019548</td>\n",
       "      <td>[298]</td>\n",
       "      <td>0.0</td>\n",
       "      <td>False</td>\n",
       "    </tr>\n",
       "    <tr>\n",
       "      <th>2020</th>\n",
       "      <td>Petrópolis</td>\n",
       "      <td>-22.5050</td>\n",
       "      <td>-43.1789</td>\n",
       "      <td>Brazil</td>\n",
       "      <td>298142.0</td>\n",
       "      <td>-0.392786</td>\n",
       "      <td>-0.753614</td>\n",
       "      <td>[2560]</td>\n",
       "      <td>0.0</td>\n",
       "      <td>False</td>\n",
       "    </tr>\n",
       "    <tr>\n",
       "      <th>5619</th>\n",
       "      <td>Inhumas</td>\n",
       "      <td>-16.3578</td>\n",
       "      <td>-49.4961</td>\n",
       "      <td>Brazil</td>\n",
       "      <td>44058.0</td>\n",
       "      <td>-0.285497</td>\n",
       "      <td>-0.863870</td>\n",
       "      <td>[2562]</td>\n",
       "      <td>0.0</td>\n",
       "      <td>False</td>\n",
       "    </tr>\n",
       "    <tr>\n",
       "      <th>1369</th>\n",
       "      <td>Niterói</td>\n",
       "      <td>-22.8833</td>\n",
       "      <td>-43.1036</td>\n",
       "      <td>Brazil</td>\n",
       "      <td>496696.0</td>\n",
       "      <td>-0.399389</td>\n",
       "      <td>-0.752300</td>\n",
       "      <td>[2612]</td>\n",
       "      <td>0.0</td>\n",
       "      <td>False</td>\n",
       "    </tr>\n",
       "    <tr>\n",
       "      <th>1411</th>\n",
       "      <td>Feira de Santana</td>\n",
       "      <td>-12.2500</td>\n",
       "      <td>-38.9700</td>\n",
       "      <td>Brazil</td>\n",
       "      <td>481911.0</td>\n",
       "      <td>-0.213803</td>\n",
       "      <td>-0.680155</td>\n",
       "      <td>[2621]</td>\n",
       "      <td>0.0</td>\n",
       "      <td>False</td>\n",
       "    </tr>\n",
       "    <tr>\n",
       "      <th>873</th>\n",
       "      <td>Olinda</td>\n",
       "      <td>-8.0000</td>\n",
       "      <td>-34.8500</td>\n",
       "      <td>Brazil</td>\n",
       "      <td>921840.0</td>\n",
       "      <td>-0.139626</td>\n",
       "      <td>-0.608247</td>\n",
       "      <td>[2610]</td>\n",
       "      <td>0.0</td>\n",
       "      <td>False</td>\n",
       "    </tr>\n",
       "  </tbody>\n",
       "</table>\n",
       "</div>"
      ],
      "text/plain": [
       "                      city      lat      lng               country  \\\n",
       "536                  Milan  45.4669   9.1900                 Italy   \n",
       "17805               Múggia  45.6000  13.7667                 Italy   \n",
       "5325             Braintree  51.8780   0.5500        United Kingdom   \n",
       "3659      ’s-Hertogenbosch  51.6833   5.3167           Netherlands   \n",
       "14372  Konstancin-Jeziorna  52.0938  21.1176                Poland   \n",
       "4403               Brovary  50.5114  30.7903               Ukraine   \n",
       "14239            Zernograd  46.8500  40.3000                Russia   \n",
       "5750        Umm al Qaywayn  25.5653  55.5533  United Arab Emirates   \n",
       "198                 Jeddah  21.5428  39.1728          Saudi Arabia   \n",
       "18281             Adi Keyh  14.8333  39.3667               Eritrea   \n",
       "3357            Al Manāqil  14.2504  32.9800                 Sudan   \n",
       "7098                   Mao  14.1194  15.3133                  Chad   \n",
       "5267                Lokoja   7.8004   6.7399               Nigeria   \n",
       "4862              Atakpamé   7.5300   1.1200                  Togo   \n",
       "2020            Petrópolis -22.5050 -43.1789                Brazil   \n",
       "5619               Inhumas -16.3578 -49.4961                Brazil   \n",
       "1369               Niterói -22.8833 -43.1036                Brazil   \n",
       "1411      Feira de Santana -12.2500 -38.9700                Brazil   \n",
       "873                 Olinda  -8.0000 -34.8500                Brazil   \n",
       "\n",
       "       population   lat_rad   lng_rad    airport_id  own_airport  Linked  \n",
       "536     1351562.0  0.793547  0.160396        [1529]          1.0   False  \n",
       "17805     13111.0  0.795870  0.240274        [1545]          0.0   False  \n",
       "5325      53477.0  0.905442  0.009599         [548]          0.0   False  \n",
       "3659     134520.0  0.902044  0.092794         [585]          0.0   False  \n",
       "14372     23694.0  0.909208  0.368572         [679]          0.0   False  \n",
       "4403     102856.0  0.881590  0.537392        [2939]          0.0   False  \n",
       "14239     24561.0  0.817687  0.703368        [2964]          0.0   False  \n",
       "5750      44411.0  0.446199  0.969588        [2191]          0.0   False  \n",
       "198     3976000.0  0.375993  0.683694  [2071, 2072]          1.0   False  \n",
       "18281     13061.0  0.258890  0.687079        [3967]          0.0   False  \n",
       "3357     151827.0  0.248716  0.575610        [1175]          0.0   False  \n",
       "7098      19004.0  0.246430  0.267268         [999]          0.0   False  \n",
       "5267      60579.0  0.136143  0.117633         [260]          0.0   False  \n",
       "4862      80683.0  0.131423  0.019548         [298]          0.0   False  \n",
       "2020     298142.0 -0.392786 -0.753614        [2560]          0.0   False  \n",
       "5619      44058.0 -0.285497 -0.863870        [2562]          0.0   False  \n",
       "1369     496696.0 -0.399389 -0.752300        [2612]          0.0   False  \n",
       "1411     481911.0 -0.213803 -0.680155        [2621]          0.0   False  \n",
       "873      921840.0 -0.139626 -0.608247        [2610]          0.0   False  "
      ]
     },
     "execution_count": 16,
     "metadata": {},
     "output_type": "execute_result"
    }
   ],
   "source": [
    "print(my_path)\n",
    "#for e in my_path:\n",
    "    #print(dictionary[e],'\\n')\n",
    "df.loc[my_path]"
   ]
  }
 ],
 "metadata": {
  "kernelspec": {
   "display_name": "Python 3",
   "language": "python",
   "name": "python3"
  },
  "language_info": {
   "codemirror_mode": {
    "name": "ipython",
    "version": 3
   },
   "file_extension": ".py",
   "mimetype": "text/x-python",
   "name": "python",
   "nbconvert_exporter": "python",
   "pygments_lexer": "ipython3",
   "version": "3.8.3"
  }
 },
 "nbformat": 4,
 "nbformat_minor": 4
}
